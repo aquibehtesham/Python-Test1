{
 "cells": [
  {
   "cell_type": "code",
   "execution_count": 1,
   "id": "37863050-7982-4b11-9f52-4cef817b66cb",
   "metadata": {},
   "outputs": [],
   "source": [
    "#Fetch secret key from config.json\n",
    "alpha_vantage_key = \"RQP3IJ7LUGK787SV\""
   ]
  },
  {
   "cell_type": "code",
   "execution_count": 2,
   "id": "b1384097-f537-48f8-8121-323893593c71",
   "metadata": {},
   "outputs": [],
   "source": [
    "#Data Loader\n",
    "import pandas as pd\n",
    "digital_currency = pd.read_csv(\"digital_currency_list.csv\")\n",
    "physical_currency = pd.read_csv(\"physical_currency_list.csv\")\n",
    "physical_currency_list = physical_currency['currency code'].tolist()\n",
    "digital_currency_list = digital_currency['currency code'].tolist()\n",
    "physical_currency_list.extend(digital_currency_list)"
   ]
  },
  {
   "cell_type": "code",
   "execution_count": 3,
   "id": "1e2651c4-5336-4814-8446-6b3f5cc187c7",
   "metadata": {},
   "outputs": [],
   "source": [
    "import requests\n",
    "import urllib3\n",
    "from requests.packages.urllib3.exceptions import InsecureRequestWarning\n",
    "requests.packages.urllib3.disable_warnings(InsecureRequestWarning)\n",
    "urllib3.disable_warnings(urllib3.exceptions.InsecureRequestWarning)\n",
    "\n",
    "#from_currency = \"ETH\"\n",
    "#to_currency = \"USD\"\n",
    "\n",
    "def get_exchange_rate(from_currency, to_currency):\n",
    "    url = f'https://www.alphavantage.co/query?function=CURRENCY_EXCHANGE_RATE&from_currency={from_currency}&to_currency={to_currency}&apikey={alpha_vantage_key}'\n",
    "    r = requests.get(url, verify=False)\n",
    "    data = r.json()\n",
    "    #print(data)\n",
    "    exchange_rate = float(next(iter(data.values())).get(\"5. Exchange Rate\"))\n",
    "    print(f\"1 {from_currency} is equal to {exchange_rate} {to_currency}\")\n",
    "    return exchange_rate\n",
    "\n",
    "#get_exchange_rate(from_currency, to_currency)"
   ]
  },
  {
   "cell_type": "code",
   "execution_count": 4,
   "id": "a6e10913-f1a3-44db-a1cd-4e71c9f9dad9",
   "metadata": {},
   "outputs": [
    {
     "data": {
      "application/vnd.jupyter.widget-view+json": {
       "model_id": "03cab13e6817428a8886cdd0a01b1243",
       "version_major": 2,
       "version_minor": 0
      },
      "text/plain": [
       "Dropdown(description='From Currency:', options=('BTC', 'ETH'), style=DescriptionStyle(description_width='100px…"
      ]
     },
     "metadata": {},
     "output_type": "display_data"
    },
    {
     "data": {
      "application/vnd.jupyter.widget-view+json": {
       "model_id": "8349ff4fe7f84e419e3b34ac8d634587",
       "version_major": 2,
       "version_minor": 0
      },
      "text/plain": [
       "Dropdown(description='To Currency:', index=42, options=('AED', 'AFN', 'ALL', 'AMD', 'ANG', 'AOA', 'ARS', 'AUD'…"
      ]
     },
     "metadata": {},
     "output_type": "display_data"
    },
    {
     "data": {
      "application/vnd.jupyter.widget-view+json": {
       "model_id": "6662cc3592e24867ba2eeed5f5dacdd5",
       "version_major": 2,
       "version_minor": 0
      },
      "text/plain": [
       "Button(description='Convert', style=ButtonStyle())"
      ]
     },
     "metadata": {},
     "output_type": "display_data"
    },
    {
     "data": {
      "application/vnd.jupyter.widget-view+json": {
       "model_id": "1510e42d21464525951c6acba14682f5",
       "version_major": 2,
       "version_minor": 0
      },
      "text/plain": [
       "Output()"
      ]
     },
     "metadata": {},
     "output_type": "display_data"
    }
   ],
   "source": [
    "# Get exchange rate of BTC or ETH in other currency like USD\n",
    "import ipywidgets as widgets\n",
    "from IPython.display import display\n",
    "\n",
    "\n",
    "# Define the dropdown menus\n",
    "\n",
    "from_currency_dropdown = widgets.Dropdown(\n",
    "    options=['BTC', 'ETH'],\n",
    "    value='BTC',\n",
    "    description='From Currency:',\n",
    "    style={ 'description_width': '100px'}\n",
    ")\n",
    "\n",
    "to_currency_dropdown = widgets.Dropdown(\n",
    "    options=physical_currency_list,\n",
    "    value='EUR',\n",
    "    description='To Currency:',\n",
    "    style={ 'description_width': '100px'}\n",
    ")\n",
    "\n",
    "# Define the button to trigger the conversion\n",
    "convert_button = widgets.Button(description='Convert')\n",
    "\n",
    "# Define the output widget to display the result\n",
    "output = widgets.Output()\n",
    "\n",
    "# Define the function to handle the button click\n",
    "def on_button_click(button):\n",
    "    # Get the currency and amount values\n",
    "    from_currency_using_dd = from_currency_dropdown.value\n",
    "    to_currency_using_dd = to_currency_dropdown.value\n",
    "    amount = 1\n",
    "    # Convert currency and display result\n",
    "    \n",
    "    converted_amount = get_exchange_rate(from_currency_using_dd, to_currency_using_dd)\n",
    "    with output:\n",
    "        print(f\"{amount} {from_currency_using_dd} = {converted_amount:.2f} {to_currency_using_dd}\")\n",
    "\n",
    "# Attach the button click function to the button\n",
    "convert_button.on_click(on_button_click)\n",
    "\n",
    "# Display the widgets and output widget\n",
    "display(from_currency_dropdown, to_currency_dropdown, convert_button, output)\n"
   ]
  },
  {
   "cell_type": "code",
   "execution_count": 5,
   "id": "9c2d1b6a-a161-4649-bef5-74b7f5336ab1",
   "metadata": {
    "tags": []
   },
   "outputs": [],
   "source": [
    "\n",
    "import requests\n",
    "import urllib3\n",
    "import pandas as pd\n",
    "from requests.packages.urllib3.exceptions import InsecureRequestWarning\n",
    "requests.packages.urllib3.disable_warnings(InsecureRequestWarning)\n",
    "urllib3.disable_warnings(urllib3.exceptions.InsecureRequestWarning)\n",
    "\n",
    "#from_currency = \"BTC\"\n",
    "#to_currency = \"USD\"\n",
    "\n",
    "def get_historical_data(from_currency, to_currency):\n",
    "    url = f'https://www.alphavantage.co/query?function=DIGITAL_CURRENCY_DAILY&symbol={from_currency}&market={to_currency}&apikey={alpha_vantage_key}'\n",
    "    r = requests.get(url, verify=False)\n",
    "    print(r.status_code)\n",
    "    data = r.json()\n",
    "    output = pd.DataFrame.from_dict(data['Time Series (Digital Currency Daily)'])\n",
    "    output_transposed = output.T\n",
    "    output_reset = output_transposed.reset_index()\n",
    "    temp = f\"Date for {from_currency} vs {to_currency}\"\n",
    "    output_renamed = output_reset.rename(columns={\"index\": temp })\n",
    "    output_renamed[temp] = pd.to_datetime(output_renamed[temp])\n",
    "    return output_renamed\n",
    "\n",
    "#get_historical_data(from_currency, to_currency)"
   ]
  },
  {
   "cell_type": "code",
   "execution_count": 6,
   "id": "450bcf2a-3897-4eff-8cee-588b63ac8cc9",
   "metadata": {},
   "outputs": [
    {
     "data": {
      "application/vnd.jupyter.widget-view+json": {
       "model_id": "9a08da20791b426293e8551062e6207e",
       "version_major": 2,
       "version_minor": 0
      },
      "text/plain": [
       "Dropdown(description='From Currency:', options=('BTC', 'ETH'), style=DescriptionStyle(description_width='100px…"
      ]
     },
     "metadata": {},
     "output_type": "display_data"
    },
    {
     "data": {
      "application/vnd.jupyter.widget-view+json": {
       "model_id": "eeed98c45f5a414b8722b33420c4fd7a",
       "version_major": 2,
       "version_minor": 0
      },
      "text/plain": [
       "Dropdown(description='To Currency:', options=('USD',), style=DescriptionStyle(description_width='100px'), valu…"
      ]
     },
     "metadata": {},
     "output_type": "display_data"
    },
    {
     "data": {
      "application/vnd.jupyter.widget-view+json": {
       "model_id": "30a64420650a47cf92c0e83ed00e66b9",
       "version_major": 2,
       "version_minor": 0
      },
      "text/plain": [
       "Button(description='Get Historical Data', style=ButtonStyle())"
      ]
     },
     "metadata": {},
     "output_type": "display_data"
    },
    {
     "data": {
      "application/vnd.jupyter.widget-view+json": {
       "model_id": "e0307f754d4c4a539b8414269d0f3008",
       "version_major": 2,
       "version_minor": 0
      },
      "text/plain": [
       "Output()"
      ]
     },
     "metadata": {},
     "output_type": "display_data"
    }
   ],
   "source": [
    "# Get historical data for BTC or ETH in other currency like USD\n",
    "import ipywidgets as widgets\n",
    "from IPython.display import display\n",
    "\n",
    "\n",
    "# Define the dropdown menus\n",
    "\n",
    "from_currency_dropdown_1 = widgets.Dropdown(\n",
    "    options=['BTC', 'ETH'],\n",
    "    value='BTC',\n",
    "    description='From Currency:',\n",
    "    style={ 'description_width': '100px'}\n",
    ")\n",
    "\n",
    "to_currency_dropdown_1 = widgets.Dropdown(\n",
    "    options=['USD'],\n",
    "    value='USD',\n",
    "    description='To Currency:',\n",
    "    style={ 'description_width': '100px'}\n",
    ")\n",
    "\n",
    "# Define the button to trigger the conversion\n",
    "convert_button_1 = widgets.Button(description='Get Historical Data')\n",
    "\n",
    "# Define the output widget to display the result\n",
    "output_1 = widgets.Output()\n",
    "\n",
    "# Define the function to handle the button click\n",
    "def on_button_click_1(button):\n",
    "    # Get the currency and amount values\n",
    "    from_currency_using_dd_1 = from_currency_dropdown_1.value\n",
    "    to_currency_using_dd_1 = to_currency_dropdown_1.value   \n",
    "    historical_dataframe_1 = get_historical_data(from_currency_using_dd_1, to_currency_using_dd_1)\n",
    "    with output_1:\n",
    "        display(historical_dataframe_1.head())\n",
    "\n",
    "# Attach the button click function to the button\n",
    "convert_button_1.on_click(on_button_click_1)\n",
    "\n",
    "# Display the widgets and output widget\n",
    "display(from_currency_dropdown_1, to_currency_dropdown_1, convert_button_1, output_1)\n"
   ]
  }
 ],
 "metadata": {
  "kernelspec": {
   "display_name": "Python 3 (ipykernel)",
   "language": "python",
   "name": "python3"
  },
  "language_info": {
   "codemirror_mode": {
    "name": "ipython",
    "version": 3
   },
   "file_extension": ".py",
   "mimetype": "text/x-python",
   "name": "python",
   "nbconvert_exporter": "python",
   "pygments_lexer": "ipython3",
   "version": "3.9.7"
  }
 },
 "nbformat": 4,
 "nbformat_minor": 5
}
